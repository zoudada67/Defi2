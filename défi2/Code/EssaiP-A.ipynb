{
  "nbformat": 4,
  "nbformat_minor": 0,
  "metadata": {
    "colab": {
      "provenance": [],
      "collapsed_sections": [],
      "authorship_tag": "ABX9TyOEczQQ9Kv/WVBR9aQlK/In",
      "include_colab_link": true
    },
    "kernelspec": {
      "name": "python3",
      "display_name": "Python 3"
    },
    "language_info": {
      "name": "python"
    }
  },
  "cells": [
    {
      "cell_type": "markdown",
      "metadata": {
        "id": "view-in-github",
        "colab_type": "text"
      },
      "source": [
        "<a href=\"https://colab.research.google.com/github/zoudada67/Defi2/blob/main/d%C3%A9fi2/Code/EssaiP-A.ipynb\" target=\"_parent\"><img src=\"https://colab.research.google.com/assets/colab-badge.svg\" alt=\"Open In Colab\"/></a>"
      ]
    },
    {
      "cell_type": "code",
      "execution_count": 36,
      "metadata": {
        "id": "tpHv4NdHADah"
      },
      "outputs": [],
      "source": [
        "import pandas as pd\n",
        "import numpy as np\n",
        "\n",
        "from sklearn.model_selection import train_test_split\n",
        "from sklearn.ensemble import RandomForestClassifier\n",
        "from sklearn import metrics"
      ]
    },
    {
      "cell_type": "code",
      "source": [
        "df = pd.read_csv('data.csv',encoding='utf8',sep=\" \")\n",
        "df2 = pd.read_csv('jeu2validation.csv',encoding='utf8',sep=\";\")"
      ],
      "metadata": {
        "id": "yHsGTgGOAY60"
      },
      "execution_count": 72,
      "outputs": []
    },
    {
      "cell_type": "code",
      "source": [
        "x = df[['age','bmi','elective_surgery','gender','height',\n",
        "        'diabetes_mellitus','hepatic_failure','immunosuppression','leukemia',\n",
        "        'd1_sysbp_max','d1_sysbp_min','d1_sysbp_noninvasive_max','d1_sysbp_noninvasive_min','d1_temp_max','d1_temp_min',\n",
        "        'h1_diasbp_max','h1_diasbp_min','h1_diasbp_noninvasive_max','h1_diasbp_noninvasive_min','h1_heartrate_max']]\n",
        "y = df['hospital_death']\n",
        "\n",
        "x_train, x_test, y_train, y_test = train_test_split(x, y, test_size=0.2)"
      ],
      "metadata": {
        "id": "PHmCezcwWFWH"
      },
      "execution_count": 85,
      "outputs": []
    },
    {
      "cell_type": "code",
      "source": [
        "classifier=RandomForestClassifier(n_estimators=100)\n",
        "\n",
        "classifier.fit(x_train,y_train)\n",
        "\n",
        "y_pred=classifier.predict(x_test)\n",
        "\n",
        "print(\"précision:\",metrics.accuracy_score(y_test, y_pred))"
      ],
      "metadata": {
        "id": "UpySK2ot0v69"
      },
      "execution_count": null,
      "outputs": []
    },
    {
      "cell_type": "code",
      "source": [
        "x2 = df2[['age','bmi','elective_surgery','gender','height',\n",
        "        'diabetes_mellitus','hepatic_failure','immunosuppression','leukemia',\n",
        "        'd1_sysbp_max','d1_sysbp_min','d1_sysbp_noninvasive_max','d1_sysbp_noninvasive_min','d1_temp_max','d1_temp_min']]\n",
        "\n",
        "y_pred2=classifier.predict(x2)\n",
        "\n",
        "y_pred2"
      ],
      "metadata": {
        "id": "H0r_kVYBqrYt"
      },
      "execution_count": null,
      "outputs": []
    }
  ]
}